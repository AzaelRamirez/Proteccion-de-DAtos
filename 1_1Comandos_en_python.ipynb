{
  "nbformat": 4,
  "nbformat_minor": 0,
  "metadata": {
    "colab": {
      "provenance": [],
      "authorship_tag": "ABX9TyOyKHyzkcqgCqJKWY/dIN8h",
      "include_colab_link": true
    },
    "kernelspec": {
      "name": "python3",
      "display_name": "Python 3"
    },
    "language_info": {
      "name": "python"
    }
  },
  "cells": [
    {
      "cell_type": "markdown",
      "metadata": {
        "id": "view-in-github",
        "colab_type": "text"
      },
      "source": [
        "<a href=\"https://colab.research.google.com/github/AzaelRamirez/Proteccion-de-Datos/blob/main/1_1Comandos_en_python.ipynb\" target=\"_parent\"><img src=\"https://colab.research.google.com/assets/colab-badge.svg\" alt=\"Open In Colab\"/></a>"
      ]
    },
    {
      "cell_type": "markdown",
      "source": [
        "#1.1 Comandos en Python\n"
      ],
      "metadata": {
        "id": "cH8ZtyAGG-iM"
      }
    },
    {
      "cell_type": "code",
      "execution_count": null,
      "metadata": {
        "colab": {
          "base_uri": "https://localhost:8080/"
        },
        "id": "eFk2lbDiG7dD",
        "outputId": "1b4b991f-887c-4397-93ac-6e06562a04b5"
      },
      "outputs": [
        {
          "output_type": "execute_result",
          "data": {
            "text/plain": [
              "120"
            ]
          },
          "metadata": {},
          "execution_count": 1
        }
      ],
      "source": [
        "\n",
        "#Ejercicio 1\n",
        "from math import factorial\n",
        "#De la paqueteria math importamos factorial\n",
        "\n",
        "factorial(5)"
      ]
    },
    {
      "cell_type": "code",
      "source": [
        "#Ejecicio 2\n",
        "n = 3\n",
        "addres = \"221b Baker Street, NW1 6XE, London\"\n",
        "employee = {\n",
        "    'age' : 45,\n",
        "    'role' : 'CTO',\n",
        "    'SSN' : 'AB12345567'\n",
        "}\n",
        "\n",
        "print(n)\n",
        "print(addres)\n",
        "print(employee)"
      ],
      "metadata": {
        "colab": {
          "base_uri": "https://localhost:8080/"
        },
        "id": "M4RQLS0NPm1x",
        "outputId": "01a9017d-1e51-43b9-e9fc-cb527e3b39b4"
      },
      "execution_count": null,
      "outputs": [
        {
          "output_type": "stream",
          "name": "stdout",
          "text": [
            "3\n",
            "221b Baker Street, NW1 6XE, London\n",
            "{'age': 45, 'role': 'CTO', 'SSN': 'AB12345567'}\n"
          ]
        }
      ]
    },
    {
      "cell_type": "code",
      "source": [
        "\n",
        "#Ejercicio 3\n",
        "def local():\n",
        "  m = 7\n",
        "  print(m)\n",
        "\n",
        "m = 5\n",
        "\n",
        "local()\n",
        "\n",
        "print(m)"
      ],
      "metadata": {
        "colab": {
          "base_uri": "https://localhost:8080/"
        },
        "id": "i734pFF5QX5h",
        "outputId": "b363f108-20e5-48cb-cc28-8211bc513476"
      },
      "execution_count": null,
      "outputs": [
        {
          "output_type": "stream",
          "name": "stdout",
          "text": [
            "7\n",
            "5\n"
          ]
        }
      ]
    },
    {
      "cell_type": "code",
      "source": [
        "#Ejercico 4\n",
        "\n",
        "def local():\n",
        "  print(m, 'imprimiendo desde dentro de la funcion')\n",
        "\n",
        "m = 5\n",
        "print(m,'imprimiendo desde el entorno global')\n",
        "\n",
        "local()"
      ],
      "metadata": {
        "colab": {
          "base_uri": "https://localhost:8080/"
        },
        "id": "CJMd9QPwQYFZ",
        "outputId": "94885e01-498f-4c40-9da1-fbec321dd361"
      },
      "execution_count": null,
      "outputs": [
        {
          "output_type": "stream",
          "name": "stdout",
          "text": [
            "5 imprimiendo desde el entorno global\n",
            "5 imprimiendo desde dentro de la funcion\n"
          ]
        }
      ]
    },
    {
      "cell_type": "code",
      "source": [
        "#Ejercicio 5\n",
        "\n",
        "def enclosing_func():\n",
        "  m = 13\n",
        "\n",
        "  def local():\n",
        "    print(m,'imprimiendo desde dentro de las funciones')\n",
        "\n",
        "  local()\n",
        "\n",
        "m = 5\n",
        "print(m, 'imprimiendo desde fuera de las funciones')\n",
        "\n",
        "enclosing_func()"
      ],
      "metadata": {
        "colab": {
          "base_uri": "https://localhost:8080/"
        },
        "id": "HbM0-FCyR14q",
        "outputId": "f4419acb-e224-4a56-936f-fc9ef3ac80cd"
      },
      "execution_count": null,
      "outputs": [
        {
          "output_type": "stream",
          "name": "stdout",
          "text": [
            "5 imprimiendo desde fuera de las funciones\n",
            "13 imprimiendo desde dentro de las funciones\n"
          ]
        }
      ]
    },
    {
      "cell_type": "code",
      "source": [
        "#Ejecricio 6\n",
        "\n",
        "class Bike:\n",
        "\n",
        "  def __init__(self, colour, frame_material):\n",
        "    self.colour = colour\n",
        "    self.frame_material = frame_material\n",
        "\n",
        "  def brake (self):\n",
        "    print(\"Braking!\")\n",
        "\n",
        "red_bike = Bike('red', 'Carbon fiber')\n",
        "blue_bike = Bike('blue','steel')\n",
        "\n",
        "print(red_bike.colour)\n",
        "print(red_bike.frame_material)\n",
        "print(blue_bike.colour)\n",
        "print(blue_bike.frame_material)\n",
        "\n",
        "red_bike.brake()"
      ],
      "metadata": {
        "colab": {
          "base_uri": "https://localhost:8080/"
        },
        "id": "BCKQjlgSTPij",
        "outputId": "b3ba81df-dcb4-4dda-e097-e01a9c8cfd84"
      },
      "execution_count": null,
      "outputs": [
        {
          "output_type": "stream",
          "name": "stdout",
          "text": [
            "red\n",
            "Carbon fiber\n",
            "blue\n",
            "steel\n",
            "Braking!\n"
          ]
        }
      ]
    },
    {
      "cell_type": "code",
      "source": [
        "#Ejercico 7\n",
        "s =\"This is üŋíc0de\"\n",
        "print(type(s))\n",
        "\n",
        "encoded_s = s.encode('utf-8')\n",
        "\n",
        "print(encoded_s)\n",
        "\n",
        "print(type(encoded_s))\n",
        "\n",
        "print(encoded_s.decode('utf-8'))"
      ],
      "metadata": {
        "colab": {
          "base_uri": "https://localhost:8080/"
        },
        "id": "WBIQlJOEn16t",
        "outputId": "6be1b8c4-ed2f-48a7-a0cf-09d44f93a7b9"
      },
      "execution_count": null,
      "outputs": [
        {
          "output_type": "stream",
          "name": "stdout",
          "text": [
            "<class 'str'>\n",
            "b'This is \\xc3\\xbc\\xc5\\x8b\\xc3\\xadc0de'\n",
            "<class 'bytes'>\n",
            "This is üŋíc0de\n"
          ]
        }
      ]
    },
    {
      "cell_type": "code",
      "source": [
        "#Ejercicio 8\n",
        "\n",
        "t = ()\n",
        "print(type(t))\n",
        "\n",
        "one_element_tuple = (42, )\n",
        "three_elements_tuple = (1, 3, 5)\n",
        "a,b,c = 1,2,3\n",
        "print(a,b,c)\n",
        "\n",
        "3 in three_elements_tuple"
      ],
      "metadata": {
        "colab": {
          "base_uri": "https://localhost:8080/"
        },
        "id": "PNVfPUMTU3i5",
        "outputId": "bab92121-a63d-4bba-bdb3-a2def5288ba4"
      },
      "execution_count": null,
      "outputs": [
        {
          "output_type": "stream",
          "name": "stdout",
          "text": [
            "<class 'tuple'>\n",
            "1 2 3\n"
          ]
        },
        {
          "output_type": "execute_result",
          "data": {
            "text/plain": [
              "True"
            ]
          },
          "metadata": {},
          "execution_count": 4
        }
      ]
    },
    {
      "cell_type": "code",
      "source": [
        "#Ejercicio 9\n",
        " []\n",
        "list()\n",
        "print([1,2,3])\n",
        "print([x + 5 for x in [2,3,4]])\n",
        "print(list((1,3,5,7,9)))\n",
        "print(list('hello'))"
      ],
      "metadata": {
        "colab": {
          "base_uri": "https://localhost:8080/"
        },
        "id": "JYIk3TxLsi-g",
        "outputId": "61e07b18-8b61-44ed-e3e3-53b66972ba35"
      },
      "execution_count": null,
      "outputs": [
        {
          "output_type": "stream",
          "name": "stdout",
          "text": [
            "[1, 2, 3]\n",
            "[7, 8, 9]\n",
            "[1, 3, 5, 7, 9]\n",
            "['h', 'e', 'l', 'l', 'o']\n"
          ]
        }
      ]
    },
    {
      "cell_type": "code",
      "source": [],
      "metadata": {
        "id": "IsQQLHKWvx-9"
      },
      "execution_count": null,
      "outputs": []
    }
  ]
}